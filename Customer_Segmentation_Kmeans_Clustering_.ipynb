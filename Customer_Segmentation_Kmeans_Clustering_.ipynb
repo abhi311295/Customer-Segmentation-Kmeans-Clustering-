{
  "nbformat": 4,
  "nbformat_minor": 0,
  "metadata": {
    "colab": {
      "name": "Customer-Segmentation- Kmeans -Clustering .ipynb",
      "provenance": [],
      "authorship_tag": "ABX9TyN+24UBu0S8jXI4ZZ8LImqC",
      "include_colab_link": true
    },
    "kernelspec": {
      "name": "python3",
      "display_name": "Python 3"
    },
    "language_info": {
      "name": "python"
    }
  },
  "cells": [
    {
      "cell_type": "markdown",
      "metadata": {
        "id": "view-in-github",
        "colab_type": "text"
      },
      "source": [
        "<a href=\"https://colab.research.google.com/github/abhi311295/Customer-Segmentation-Kmeans-Clustering-/blob/main/Customer_Segmentation_Kmeans_Clustering_.ipynb\" target=\"_parent\"><img src=\"https://colab.research.google.com/assets/colab-badge.svg\" alt=\"Open In Colab\"/></a>"
      ]
    },
    {
      "cell_type": "code",
      "metadata": {
        "id": "YRqMheqTWlhw"
      },
      "source": [
        ""
      ],
      "execution_count": null,
      "outputs": []
    }
  ]
}